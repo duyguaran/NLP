{
  "nbformat": 4,
  "nbformat_minor": 0,
  "metadata": {
    "colab": {
      "name": "Lemmatization.ipynb",
      "provenance": [],
      "collapsed_sections": [],
      "authorship_tag": "ABX9TyOdBXAJZxR80A9fDOPX6rzc",
      "include_colab_link": true
    },
    "kernelspec": {
      "name": "python3",
      "display_name": "Python 3"
    }
  },
  "cells": [
    {
      "cell_type": "markdown",
      "metadata": {
        "id": "view-in-github",
        "colab_type": "text"
      },
      "source": [
        "<a href=\"https://colab.research.google.com/github/duyguaran/NLP/blob/master/Lemmatization.ipynb\" target=\"_parent\"><img src=\"https://colab.research.google.com/assets/colab-badge.svg\" alt=\"Open In Colab\"/></a>"
      ]
    },
    {
      "cell_type": "code",
      "metadata": {
        "id": "WqAtN0MpFyXy"
      },
      "source": [
        "import nltk \n",
        "from nltk.stem import WordNetLemmatizer "
      ],
      "execution_count": 1,
      "outputs": []
    },
    {
      "cell_type": "code",
      "metadata": {
        "id": "jQzWKXKLF4an",
        "colab": {
          "base_uri": "https://localhost:8080/"
        },
        "outputId": "9189dd1c-798e-40a1-c435-96e21b0b10d7"
      },
      "source": [
        "nltk.download('wordnet')\n",
        "nltk.download('punkt')"
      ],
      "execution_count": 2,
      "outputs": [
        {
          "output_type": "stream",
          "text": [
            "[nltk_data] Downloading package wordnet to /root/nltk_data...\n",
            "[nltk_data]   Unzipping corpora/wordnet.zip.\n",
            "[nltk_data] Downloading package punkt to /root/nltk_data...\n",
            "[nltk_data]   Unzipping tokenizers/punkt.zip.\n"
          ],
          "name": "stdout"
        },
        {
          "output_type": "execute_result",
          "data": {
            "text/plain": [
              "True"
            ]
          },
          "metadata": {
            "tags": []
          },
          "execution_count": 2
        }
      ]
    },
    {
      "cell_type": "code",
      "metadata": {
        "id": "91FLC3v5GQRA"
      },
      "source": [
        "lemmatizer = WordNetLemmatizer()"
      ],
      "execution_count": 3,
      "outputs": []
    },
    {
      "cell_type": "code",
      "metadata": {
        "id": "_p_1Ha0fGcoc",
        "colab": {
          "base_uri": "https://localhost:8080/",
          "height": 35
        },
        "outputId": "15de53bf-26dd-4a6a-a639-2bd9e48fead9"
      },
      "source": [
        "lemmatizer.lemmatize(\"computers\") #to make a singular word"
      ],
      "execution_count": 4,
      "outputs": [
        {
          "output_type": "execute_result",
          "data": {
            "application/vnd.google.colaboratory.intrinsic+json": {
              "type": "string"
            },
            "text/plain": [
              "'computer'"
            ]
          },
          "metadata": {
            "tags": []
          },
          "execution_count": 4
        }
      ]
    },
    {
      "cell_type": "code",
      "metadata": {
        "id": "jH2xk0LpGdrC",
        "colab": {
          "base_uri": "https://localhost:8080/"
        },
        "outputId": "7b6a9a9e-0250-4434-adb1-3960487c3952"
      },
      "source": [
        "print(lemmatizer.lemmatize(\"dogs\")) #to make a singular word"
      ],
      "execution_count": 5,
      "outputs": [
        {
          "output_type": "stream",
          "text": [
            "dog\n"
          ],
          "name": "stdout"
        }
      ]
    },
    {
      "cell_type": "code",
      "metadata": {
        "id": "wPVhrYmiGf0Y",
        "colab": {
          "base_uri": "https://localhost:8080/",
          "height": 35
        },
        "outputId": "de04a8ce-f69a-45d3-b8d0-302a6a2664f5"
      },
      "source": [
        "lemmatizer.lemmatize(\"better\", pos=\"a\") #noun form of the adjective"
      ],
      "execution_count": 6,
      "outputs": [
        {
          "output_type": "execute_result",
          "data": {
            "application/vnd.google.colaboratory.intrinsic+json": {
              "type": "string"
            },
            "text/plain": [
              "'good'"
            ]
          },
          "metadata": {
            "tags": []
          },
          "execution_count": 6
        }
      ]
    },
    {
      "cell_type": "code",
      "metadata": {
        "id": "DD81qM_GI6N8",
        "colab": {
          "base_uri": "https://localhost:8080/",
          "height": 35
        },
        "outputId": "318760ea-a870-4fe9-9c51-ce16e73281d7"
      },
      "source": [
        "lemmatizer.lemmatize(\"running\",pos='v') #noun form of the verb"
      ],
      "execution_count": 7,
      "outputs": [
        {
          "output_type": "execute_result",
          "data": {
            "application/vnd.google.colaboratory.intrinsic+json": {
              "type": "string"
            },
            "text/plain": [
              "'run'"
            ]
          },
          "metadata": {
            "tags": []
          },
          "execution_count": 7
        }
      ]
    },
    {
      "cell_type": "code",
      "metadata": {
        "id": "8CqQ5AaOI7JN"
      },
      "source": [
        "sentence = \"The cat is sitting with the bats on the striped mat under many badly flying geese\""
      ],
      "execution_count": 8,
      "outputs": []
    },
    {
      "cell_type": "code",
      "metadata": {
        "id": "nk3Js3ibQOJ4",
        "colab": {
          "base_uri": "https://localhost:8080/"
        },
        "outputId": "4922bfda-f1b0-4142-c433-c6c6ad9fbd7d"
      },
      "source": [
        "nltk_tokens = nltk.word_tokenize(sentence)\n",
        "nltk_tokens"
      ],
      "execution_count": 9,
      "outputs": [
        {
          "output_type": "execute_result",
          "data": {
            "text/plain": [
              "['The',\n",
              " 'cat',\n",
              " 'is',\n",
              " 'sitting',\n",
              " 'with',\n",
              " 'the',\n",
              " 'bats',\n",
              " 'on',\n",
              " 'the',\n",
              " 'striped',\n",
              " 'mat',\n",
              " 'under',\n",
              " 'many',\n",
              " 'badly',\n",
              " 'flying',\n",
              " 'geese']"
            ]
          },
          "metadata": {
            "tags": []
          },
          "execution_count": 9
        }
      ]
    },
    {
      "cell_type": "code",
      "metadata": {
        "id": "FWvx5iBcQP_1",
        "colab": {
          "base_uri": "https://localhost:8080/"
        },
        "outputId": "6e358f46-11dd-4ce2-dbdc-8ccd11eb91ba"
      },
      "source": [
        "for w in nltk_tokens:\n",
        "       print ( lemmatizer.lemmatize(w))"
      ],
      "execution_count": 10,
      "outputs": [
        {
          "output_type": "stream",
          "text": [
            "The\n",
            "cat\n",
            "is\n",
            "sitting\n",
            "with\n",
            "the\n",
            "bat\n",
            "on\n",
            "the\n",
            "striped\n",
            "mat\n",
            "under\n",
            "many\n",
            "badly\n",
            "flying\n",
            "goose\n"
          ],
          "name": "stdout"
        }
      ]
    },
    {
      "cell_type": "code",
      "metadata": {
        "id": "tpPxzWuSQrWv"
      },
      "source": [
        ""
      ],
      "execution_count": null,
      "outputs": []
    }
  ]
}