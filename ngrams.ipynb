{
  "nbformat": 4,
  "nbformat_minor": 0,
  "metadata": {
    "colab": {
      "name": "ngrams.ipynb",
      "provenance": [],
      "collapsed_sections": [],
      "authorship_tag": "ABX9TyObVi48V3qVqfakEShtRrAx",
      "include_colab_link": true
    },
    "kernelspec": {
      "name": "python3",
      "display_name": "Python 3"
    }
  },
  "cells": [
    {
      "cell_type": "markdown",
      "metadata": {
        "id": "view-in-github",
        "colab_type": "text"
      },
      "source": [
        "<a href=\"https://colab.research.google.com/github/duyguaran/NLP/blob/master/ngrams.ipynb\" target=\"_parent\"><img src=\"https://colab.research.google.com/assets/colab-badge.svg\" alt=\"Open In Colab\"/></a>"
      ]
    },
    {
      "cell_type": "code",
      "metadata": {
        "id": "corq39OTaXv4"
      },
      "source": [
        "import nltk, re, string, collections\n",
        "from collections import Counter\n",
        "from nltk.util import ngrams"
      ],
      "execution_count": null,
      "outputs": []
    },
    {
      "cell_type": "code",
      "metadata": {
        "id": "UjbWybdFZSRQ"
      },
      "source": [
        "text = \"William Shakespeare, İngiliz şair, oyun yazarı ve oyuncu.Çoklukla İngilizce dilinin en büyük yazarı ve dünyanın en iyi oyun yazarı olarak anılır.İngiltere'nin ulusal şairi ve Avon'un Ozanı olarak da bilinir.Günümüze ulaşan eserleri, bazı ortaklaşa yazılanlarla birlikte 38 oyun, 154 sone, iki uzun öykü şiir ve birkaç diğer kaynağı belirsiz şiirlerden oluşur.Oyunları bütün büyük dillere çevrildi ve diğer bütün oyun yazarlarından daha çok sergilendi\""
      ],
      "execution_count": null,
      "outputs": []
    },
    {
      "cell_type": "code",
      "metadata": {
        "id": "X6eM5IzAZv1C"
      },
      "source": [
        "text=text.replace(\"I\",\"ı\").replace(\"İ\",\"i\").lower()  # in Python ( I, i) , in Turkish (I,ı and İ,i)"
      ],
      "execution_count": null,
      "outputs": []
    },
    {
      "cell_type": "code",
      "metadata": {
        "id": "mjXmcJGrrhfn",
        "colab": {
          "base_uri": "https://localhost:8080/",
          "height": 69
        },
        "outputId": "d48fca85-73e1-4a7f-921c-a9f0b7c0a75e"
      },
      "source": [
        "text # updated text"
      ],
      "execution_count": null,
      "outputs": [
        {
          "output_type": "execute_result",
          "data": {
            "application/vnd.google.colaboratory.intrinsic+json": {
              "type": "string"
            },
            "text/plain": [
              "\"william shakespeare, ingiliz şair, oyun yazarı ve oyuncu.çoklukla ingilizce dilinin en büyük yazarı ve dünyanın en iyi oyun yazarı olarak anılır.ingiltere'nin ulusal şairi ve avon'un ozanı olarak da bilinir.günümüze ulaşan eserleri, bazı ortaklaşa yazılanlarla birlikte 38 oyun, 154 sone, iki uzun öykü şiir ve birkaç diğer kaynağı belirsiz şiirlerden oluşur.oyunları bütün büyük dillere çevrildi ve diğer bütün oyun yazarlarından daha çok sergilendi\""
            ]
          },
          "metadata": {
            "tags": []
          },
          "execution_count": 4
        }
      ]
    },
    {
      "cell_type": "code",
      "metadata": {
        "id": "yofrspcaaFTF"
      },
      "source": [
        "tokenized=text.split() #get indiviual words"
      ],
      "execution_count": null,
      "outputs": []
    },
    {
      "cell_type": "code",
      "metadata": {
        "id": "H3TxXkI4dHb1"
      },
      "source": [
        "bigram=nltk.FreqDist(nltk.bigrams(tokenized))\n",
        "bigram_count=Counter(bigram) #get the frequency of each bigram in  our corcus\n",
        "bigram_values=list(bigram_count.values())\n",
        "list_bigram=list(bigram_count) #list of all the bigrams"
      ],
      "execution_count": null,
      "outputs": []
    },
    {
      "cell_type": "code",
      "metadata": {
        "id": "dmIRHaAd6sUt",
        "colab": {
          "base_uri": "https://localhost:8080/"
        },
        "outputId": "dee6da7e-a1b7-48f0-9b21-25c04cc2d700"
      },
      "source": [
        "bigram"
      ],
      "execution_count": null,
      "outputs": [
        {
          "output_type": "execute_result",
          "data": {
            "text/plain": [
              "FreqDist({('154', 'sone,'): 1,\n",
              "          ('38', 'oyun,'): 1,\n",
              "          (\"anılır.ingiltere'nin\", 'ulusal'): 1,\n",
              "          (\"avon'un\", 'ozanı'): 1,\n",
              "          ('bazı', 'ortaklaşa'): 1,\n",
              "          ('belirsiz', 'şiirlerden'): 1,\n",
              "          ('bilinir.günümüze', 'ulaşan'): 1,\n",
              "          ('birkaç', 'diğer'): 1,\n",
              "          ('birlikte', '38'): 1,\n",
              "          ('bütün', 'büyük'): 1,\n",
              "          ('bütün', 'oyun'): 1,\n",
              "          ('büyük', 'dillere'): 1,\n",
              "          ('büyük', 'yazarı'): 1,\n",
              "          ('da', 'bilinir.günümüze'): 1,\n",
              "          ('daha', 'çok'): 1,\n",
              "          ('dilinin', 'en'): 1,\n",
              "          ('dillere', 'çevrildi'): 1,\n",
              "          ('diğer', 'bütün'): 1,\n",
              "          ('diğer', 'kaynağı'): 1,\n",
              "          ('dünyanın', 'en'): 1,\n",
              "          ('en', 'büyük'): 1,\n",
              "          ('en', 'iyi'): 1,\n",
              "          ('eserleri,', 'bazı'): 1,\n",
              "          ('iki', 'uzun'): 1,\n",
              "          ('ingiliz', 'şair,'): 1,\n",
              "          ('ingilizce', 'dilinin'): 1,\n",
              "          ('iyi', 'oyun'): 1,\n",
              "          ('kaynağı', 'belirsiz'): 1,\n",
              "          ('olarak', \"anılır.ingiltere'nin\"): 1,\n",
              "          ('olarak', 'da'): 1,\n",
              "          ('oluşur.oyunları', 'bütün'): 1,\n",
              "          ('ortaklaşa', 'yazılanlarla'): 1,\n",
              "          ('oyun', 'yazarlarından'): 1,\n",
              "          ('oyun', 'yazarı'): 2,\n",
              "          ('oyun,', '154'): 1,\n",
              "          ('oyuncu.çoklukla', 'ingilizce'): 1,\n",
              "          ('ozanı', 'olarak'): 1,\n",
              "          ('shakespeare,', 'ingiliz'): 1,\n",
              "          ('sone,', 'iki'): 1,\n",
              "          ('ulaşan', 'eserleri,'): 1,\n",
              "          ('ulusal', 'şairi'): 1,\n",
              "          ('uzun', 'öykü'): 1,\n",
              "          ('ve', \"avon'un\"): 1,\n",
              "          ('ve', 'birkaç'): 1,\n",
              "          ('ve', 'diğer'): 1,\n",
              "          ('ve', 'dünyanın'): 1,\n",
              "          ('ve', 'oyuncu.çoklukla'): 1,\n",
              "          ('william', 'shakespeare,'): 1,\n",
              "          ('yazarlarından', 'daha'): 1,\n",
              "          ('yazarı', 'olarak'): 1,\n",
              "          ('yazarı', 've'): 2,\n",
              "          ('yazılanlarla', 'birlikte'): 1,\n",
              "          ('çevrildi', 've'): 1,\n",
              "          ('çok', 'sergilendi'): 1,\n",
              "          ('öykü', 'şiir'): 1,\n",
              "          ('şair,', 'oyun'): 1,\n",
              "          ('şairi', 've'): 1,\n",
              "          ('şiir', 've'): 1,\n",
              "          ('şiirlerden', 'oluşur.oyunları'): 1})"
            ]
          },
          "metadata": {
            "tags": []
          },
          "execution_count": 12
        }
      ]
    },
    {
      "cell_type": "code",
      "metadata": {
        "id": "UPCXuisK6j2s"
      },
      "source": [
        "len(list_bigram)"
      ],
      "execution_count": null,
      "outputs": []
    },
    {
      "cell_type": "code",
      "metadata": {
        "id": "cu6_D0K-fdWp",
        "colab": {
          "base_uri": "https://localhost:8080/"
        },
        "outputId": "b6520c42-20aa-48e3-d054-fa79233089d5"
      },
      "source": [
        "for x in range(0,len(list_bigram)):  # if the bigram is repeated twice,list of the bigram\n",
        "  if bigram_values[x]==2:\n",
        "    print(list_bigram[x],bigram_values[x],\" \")"
      ],
      "execution_count": null,
      "outputs": [
        {
          "output_type": "stream",
          "text": [
            "('oyun', 'yazarı') 2  \n",
            "('yazarı', 've') 2  \n"
          ],
          "name": "stdout"
        }
      ]
    },
    {
      "cell_type": "code",
      "metadata": {
        "id": "jq0vutt9jG0L"
      },
      "source": [
        "text_new= \"26 Ağustos 1924’te kurulan Türkiye İş Bankası’nın kuruluş süreci, İzmir İktisat Kongresi‘ne kadar uzanır.Kısa süre içerisinde kuruluş hazırlıklarını tamamlanan banka, Türkiye İş Bankası adı altında 26 Ağustos 1924’te açılır. İş Bankası, 1932 yılında ise Türkiye dışındaki ilk şubesini açar. Türkiye İş Bankası sadece özel bir banka olarak görülmemiş, Türkiye’nin sanayileşme politikası yönünde sorumluluklar taşıması gereken bir kuruluş olarak da tasarlamıştır.\""
      ],
      "execution_count": null,
      "outputs": []
    },
    {
      "cell_type": "code",
      "metadata": {
        "id": "VzdoDTEllV8m"
      },
      "source": [
        "text_new=text_new.replace(\"I\",\"ı\").replace(\"İ\",\"i\").lower()"
      ],
      "execution_count": null,
      "outputs": []
    },
    {
      "cell_type": "code",
      "metadata": {
        "id": "oCw3x5XRjNLC"
      },
      "source": [
        "tokenize=text_new.split() #get indiviual words"
      ],
      "execution_count": null,
      "outputs": []
    },
    {
      "cell_type": "code",
      "metadata": {
        "id": "nLwt4GG5h9SB"
      },
      "source": [
        "tgram=nltk.FreqDist(nltk.trigrams(tokenize))\n",
        "tgram_count=Counter(tgram)  #get the frequency of each trigram in  our corcus\n",
        "tgram_values=list(tgram_count.values())\n",
        "list_tgram=list(tgram_count)#list of all the trigram"
      ],
      "execution_count": null,
      "outputs": []
    },
    {
      "cell_type": "code",
      "metadata": {
        "id": "nfuCOLk5iG6e",
        "colab": {
          "base_uri": "https://localhost:8080/"
        },
        "outputId": "500a0795-2b45-4423-eadb-8c4967884d73"
      },
      "source": [
        "for y in range(0,len(list_tgram)):  # if the trigram is repeated twice,list of the triagram\n",
        "  if tgram_values[y]==2:\n",
        "    print(list_tgram[y],tgram_values[y],\" \")"
      ],
      "execution_count": null,
      "outputs": [
        {
          "output_type": "stream",
          "text": [
            "('26', 'ağustos', '1924’te') 2  \n",
            "('türkiye', 'iş', 'bankası') 2  \n"
          ],
          "name": "stdout"
        }
      ]
    },
    {
      "cell_type": "code",
      "metadata": {
        "id": "Pc5xeCFtiOdW"
      },
      "source": [
        ""
      ],
      "execution_count": null,
      "outputs": []
    }
  ]
}