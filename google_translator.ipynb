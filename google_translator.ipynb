{
  "nbformat": 4,
  "nbformat_minor": 0,
  "metadata": {
    "colab": {
      "name": "google_translator.ipynb",
      "provenance": [],
      "authorship_tag": "ABX9TyNwv9ZibVmzSQFRmrvWMubi",
      "include_colab_link": true
    },
    "kernelspec": {
      "display_name": "Python 3",
      "name": "python3"
    }
  },
  "cells": [
    {
      "cell_type": "markdown",
      "metadata": {
        "id": "view-in-github",
        "colab_type": "text"
      },
      "source": [
        "<a href=\"https://colab.research.google.com/github/duyguaran/NLP/blob/master/google_translator.ipynb\" target=\"_parent\"><img src=\"https://colab.research.google.com/assets/colab-badge.svg\" alt=\"Open In Colab\"/></a>"
      ]
    },
    {
      "cell_type": "code",
      "metadata": {
        "colab": {
          "base_uri": "https://localhost:8080/"
        },
        "id": "t1KfpuKnBVKT",
        "outputId": "46a6bccf-a18d-4248-bf0e-e9e05c481fa2"
      },
      "source": [
        "pip install google_trans_new  #google translate api"
      ],
      "execution_count": null,
      "outputs": [
        {
          "output_type": "stream",
          "text": [
            "Collecting google_trans_new\n",
            "  Downloading https://files.pythonhosted.org/packages/f9/7b/9f136106dc5824dc98185c97991d3cd9b53e70a197154dd49f7b899128f6/google_trans_new-1.1.9-py3-none-any.whl\n",
            "Installing collected packages: google-trans-new\n",
            "Successfully installed google-trans-new-1.1.9\n"
          ],
          "name": "stdout"
        }
      ]
    },
    {
      "cell_type": "code",
      "metadata": {
        "id": "P4St8GwRBfMo"
      },
      "source": [
        "from google_trans_new import google_translator  \n",
        "from google.colab import files\n",
        "from google.colab import files"
      ],
      "execution_count": null,
      "outputs": []
    },
    {
      "cell_type": "code",
      "metadata": {
        "id": "2N2DyYT3_Q52"
      },
      "source": [
        "\n",
        "print (\"Upload a file named 'text.txt' \")\n",
        "files.upload()\n",
        "\n",
        "upload_file = open('text.txt', 'r')\n",
        "text= upload_file.read()\n",
        "translator = google_translator()\n",
        "translated_text = translator.translate(text, lang_tgt='en')\n",
        "upload_file.close()\n",
        "\n",
        "translated_file = open ('translated_text.txt','w')\n",
        "translated_file.write (translated_text)\n",
        "translated_file.close()"
      ],
      "execution_count": null,
      "outputs": []
    },
    {
      "cell_type": "code",
      "metadata": {
        "id": "ohOGZtk7gR7e"
      },
      "source": [
        ""
      ],
      "execution_count": null,
      "outputs": []
    }
  ]
}