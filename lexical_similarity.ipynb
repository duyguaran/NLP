{
  "nbformat": 4,
  "nbformat_minor": 0,
  "metadata": {
    "colab": {
      "name": "lexical_similarity.ipynb",
      "provenance": [],
      "collapsed_sections": [],
      "include_colab_link": true
    },
    "kernelspec": {
      "name": "python3",
      "display_name": "Python 3"
    }
  },
  "cells": [
    {
      "cell_type": "markdown",
      "metadata": {
        "id": "view-in-github",
        "colab_type": "text"
      },
      "source": [
        "<a href=\"https://colab.research.google.com/github/duyguaran/NLP/blob/master/lexical_similarity.ipynb\" target=\"_parent\"><img src=\"https://colab.research.google.com/assets/colab-badge.svg\" alt=\"Open In Colab\"/></a>"
      ]
    },
    {
      "cell_type": "code",
      "metadata": {
        "id": "-xUFQbmhxxuq"
      },
      "source": [
        "import nltk\n",
        "from collections import Counter\n",
        "import pandas as pd \n",
        "import numpy as np"
      ],
      "execution_count": null,
      "outputs": []
    },
    {
      "cell_type": "code",
      "metadata": {
        "id": "sBfqB39bxyuP"
      },
      "source": [
        "def levenshtein(seq1, seq2):\n",
        "    size_x = len(seq1) + 1\n",
        "    size_y = len(seq2) + 1\n",
        "    matrix = np.zeros ((size_x, size_y))\n",
        "    for x in range(size_x):\n",
        "        matrix [x, 0] = x\n",
        "    for y in range(size_y):\n",
        "        matrix [0, y] = y\n",
        "\n",
        "    for x in range(1, size_x):\n",
        "        for y in range(1, size_y):\n",
        "            if seq1[x-1] == seq2[y-1]:\n",
        "                matrix [x,y] = min(\n",
        "                    matrix[x-1, y] + 1,\n",
        "                    matrix[x-1, y-1],\n",
        "                    matrix[x, y-1] + 1\n",
        "                )\n",
        "            else:\n",
        "                matrix [x,y] = min(\n",
        "                    matrix[x-1,y] + 1,\n",
        "                    matrix[x-1,y-1] + 1,\n",
        "                    matrix[x,y-1] + 1\n",
        "                )\n",
        "    #print (matrix)\n",
        "    return (matrix[size_x - 1, size_y - 1])\n",
        "\n"
      ],
      "execution_count": null,
      "outputs": []
    },
    {
      "cell_type": "code",
      "metadata": {
        "id": "j-CPKS5Kx0bn"
      },
      "source": [
        "text=\"duygu duygu duygu duygu duygu duygu duygu aran aran aran aran dygu dygu arn arn\""
      ],
      "execution_count": null,
      "outputs": []
    },
    {
      "cell_type": "code",
      "metadata": {
        "id": "QbB9cracx3AH"
      },
      "source": [
        "text_lower=text.lower()\n",
        "new_text=text_lower.split()"
      ],
      "execution_count": null,
      "outputs": []
    },
    {
      "cell_type": "code",
      "metadata": {
        "id": "I51Z8zA1x6R6"
      },
      "source": [
        "frekans=nltk.FreqDist(new_text)\n",
        "frekans_count=Counter(frekans) #get the frequency \n",
        "values=list(frekans_count.values())\n",
        "listelenmis=list(frekans_count) #list of all "
      ],
      "execution_count": null,
      "outputs": []
    },
    {
      "cell_type": "code",
      "metadata": {
        "id": "OjJT2pGAx71y"
      },
      "source": [
        "high = []\n",
        "low = []"
      ],
      "execution_count": null,
      "outputs": []
    },
    {
      "cell_type": "code",
      "metadata": {
        "id": "akuIWegqyFkM"
      },
      "source": [
        "for x in range(len(frekans_count)): #for threshold = 3 )\n",
        "  if values[x]< 3:\n",
        "    low.append(listelenmis[x])\n",
        "  else :\n",
        "    high.append(listelenmis[x])"
      ],
      "execution_count": null,
      "outputs": []
    },
    {
      "cell_type": "code",
      "metadata": {
        "id": "LTlB-2Eq14QJ"
      },
      "source": [
        "h = high\n",
        "l = low\n",
        "dd = []\n",
        "wr = []"
      ],
      "execution_count": null,
      "outputs": []
    },
    {
      "cell_type": "markdown",
      "metadata": {
        "id": "QImqdc8LGz_L"
      },
      "source": [
        ""
      ]
    },
    {
      "cell_type": "code",
      "metadata": {
        "id": "AETThBCGyIHw"
      },
      "source": [
        "\n",
        "for j in range (len(low)):  #We find similarities by comparing low and high frequency words \n",
        "   for i in range(len(high)):\n",
        "       if levenshtein(l[j],h[i]) == 1.0 :\n",
        "        dd.append(h[i])\n",
        "        wr.append(l[j])\n",
        "        d= {'low':wr,\n",
        "        'high': dd}\n",
        "        df = pd.DataFrame(d)"
      ],
      "execution_count": null,
      "outputs": []
    },
    {
      "cell_type": "code",
      "metadata": {
        "colab": {
          "base_uri": "https://localhost:8080/",
          "height": 107
        },
        "id": "yQzjPCD7yJdD",
        "outputId": "7245d1ca-d5e0-4179-c931-a37642637786"
      },
      "source": [
        "df # dygu is more similar to the word duygu "
      ],
      "execution_count": null,
      "outputs": [
        {
          "output_type": "execute_result",
          "data": {
            "text/html": [
              "<div>\n",
              "<style scoped>\n",
              "    .dataframe tbody tr th:only-of-type {\n",
              "        vertical-align: middle;\n",
              "    }\n",
              "\n",
              "    .dataframe tbody tr th {\n",
              "        vertical-align: top;\n",
              "    }\n",
              "\n",
              "    .dataframe thead th {\n",
              "        text-align: right;\n",
              "    }\n",
              "</style>\n",
              "<table border=\"1\" class=\"dataframe\">\n",
              "  <thead>\n",
              "    <tr style=\"text-align: right;\">\n",
              "      <th></th>\n",
              "      <th>low</th>\n",
              "      <th>high</th>\n",
              "    </tr>\n",
              "  </thead>\n",
              "  <tbody>\n",
              "    <tr>\n",
              "      <th>0</th>\n",
              "      <td>dygu</td>\n",
              "      <td>duygu</td>\n",
              "    </tr>\n",
              "    <tr>\n",
              "      <th>1</th>\n",
              "      <td>arn</td>\n",
              "      <td>aran</td>\n",
              "    </tr>\n",
              "  </tbody>\n",
              "</table>\n",
              "</div>"
            ],
            "text/plain": [
              "    low   high\n",
              "0  dygu  duygu\n",
              "1   arn   aran"
            ]
          },
          "metadata": {
            "tags": []
          },
          "execution_count": 11
        }
      ]
    },
    {
      "cell_type": "code",
      "metadata": {
        "id": "Pv2HlEln3FXX"
      },
      "source": [
        "#arn is more similar to the word aran"
      ],
      "execution_count": null,
      "outputs": []
    }
  ]
}