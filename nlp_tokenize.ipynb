{
  "nbformat": 4,
  "nbformat_minor": 0,
  "metadata": {
    "colab": {
      "name": "Untitled1.ipynb",
      "provenance": [],
      "collapsed_sections": [],
      "authorship_tag": "ABX9TyOgK/bqS+96ftg1j6bict5L",
      "include_colab_link": true
    },
    "kernelspec": {
      "name": "python3",
      "display_name": "Python 3"
    }
  },
  "cells": [
    {
      "cell_type": "markdown",
      "metadata": {
        "id": "view-in-github",
        "colab_type": "text"
      },
      "source": [
        "<a href=\"https://colab.research.google.com/github/duyguaran/duyguaran/blob/master/nlp_tokenize.ipynb\" target=\"_parent\"><img src=\"https://colab.research.google.com/assets/colab-badge.svg\" alt=\"Open In Colab\"/></a>"
      ]
    },
    {
      "cell_type": "code",
      "metadata": {
        "id": "mMtFX4nDpGrV"
      },
      "source": [
        "import nltk "
      ],
      "execution_count": 1,
      "outputs": []
    },
    {
      "cell_type": "code",
      "metadata": {
        "id": "Xl7VyZZrpIg9",
        "outputId": "85192fee-0286-4988-a7eb-7dd83e55ff97",
        "colab": {
          "base_uri": "https://localhost:8080/"
        }
      },
      "source": [
        "nltk.download('punkt')"
      ],
      "execution_count": 2,
      "outputs": [
        {
          "output_type": "stream",
          "text": [
            "[nltk_data] Downloading package punkt to /root/nltk_data...\n",
            "[nltk_data]   Unzipping tokenizers/punkt.zip.\n"
          ],
          "name": "stdout"
        },
        {
          "output_type": "execute_result",
          "data": {
            "text/plain": [
              "True"
            ]
          },
          "metadata": {
            "tags": []
          },
          "execution_count": 2
        }
      ]
    },
    {
      "cell_type": "code",
      "metadata": {
        "id": "uBnP37_TpMN1"
      },
      "source": [
        "from nltk.tokenize import word_tokenize"
      ],
      "execution_count": 3,
      "outputs": []
    },
    {
      "cell_type": "code",
      "metadata": {
        "id": "risgjs-JpS5t"
      },
      "source": [
        "from nltk.tokenize import sent_tokenize"
      ],
      "execution_count": 4,
      "outputs": []
    },
    {
      "cell_type": "code",
      "metadata": {
        "id": "NF6lw-bDyfkK"
      },
      "source": [
        "from nltk.tokenize import MWETokenizer"
      ],
      "execution_count": 5,
      "outputs": []
    },
    {
      "cell_type": "code",
      "metadata": {
        "id": "iiB9k78TyiGT"
      },
      "source": [
        "tokenizer = MWETokenizer([('Nazım','Hikmet','Ran'),('Türk','şair'),('Romantik','komünist'),('romantik','devrimci')])"
      ],
      "execution_count": 29,
      "outputs": []
    },
    {
      "cell_type": "code",
      "metadata": {
        "id": "BK44nPdepWLi"
      },
      "source": [
        "text = \"Nazım Hikmet Ran , Türk şair ve yazar. Romantik komünist ve romantik devrimci olarak tanımlanır. Şiirleri elliden fazla dile çevrilmiş ve eserleri birçok ödül almıştır.\""
      ],
      "execution_count": 30,
      "outputs": []
    },
    {
      "cell_type": "code",
      "metadata": {
        "id": "wKgMVf0Epa9X",
        "outputId": "b10884db-d91b-4b03-96c6-e05db587a9d4",
        "colab": {
          "base_uri": "https://localhost:8080/"
        }
      },
      "source": [
        "word_tokenize(text)"
      ],
      "execution_count": 26,
      "outputs": [
        {
          "output_type": "execute_result",
          "data": {
            "text/plain": [
              "['Nazım',\n",
              " 'Hikmet',\n",
              " 'Ran',\n",
              " ',',\n",
              " 'Türk',\n",
              " 'şair',\n",
              " 've',\n",
              " 'yazar',\n",
              " '.',\n",
              " 'Romantik',\n",
              " 'komünist',\n",
              " 've',\n",
              " 'romantik',\n",
              " 'devrimci',\n",
              " 'olarak',\n",
              " 'tanımlanır',\n",
              " '.',\n",
              " 'Şiirleri',\n",
              " 'elliden',\n",
              " 'fazla',\n",
              " 'dile',\n",
              " 'çevrilmiş',\n",
              " 've',\n",
              " 'eserleri',\n",
              " 'birçok',\n",
              " 'ödül',\n",
              " 'almıştır',\n",
              " '.']"
            ]
          },
          "metadata": {
            "tags": []
          },
          "execution_count": 26
        }
      ]
    },
    {
      "cell_type": "code",
      "metadata": {
        "id": "BPLePvTHpdz-",
        "outputId": "60f74752-dc50-46df-cb5b-52aeff59435d",
        "colab": {
          "base_uri": "https://localhost:8080/"
        }
      },
      "source": [
        "sent_tokenize(text)"
      ],
      "execution_count": 31,
      "outputs": [
        {
          "output_type": "execute_result",
          "data": {
            "text/plain": [
              "['Nazım Hikmet Ran , Türk şair ve yazar.',\n",
              " 'Romantik komünist ve romantik devrimci olarak tanımlanır.',\n",
              " 'Şiirleri elliden fazla dile çevrilmiş ve eserleri birçok ödül almıştır.']"
            ]
          },
          "metadata": {
            "tags": []
          },
          "execution_count": 31
        }
      ]
    },
    {
      "cell_type": "code",
      "metadata": {
        "id": "o4I8e-CWtBYV",
        "outputId": "b995e778-f95e-4dc9-e4ff-8b9f101e9a71",
        "colab": {
          "base_uri": "https://localhost:8080/"
        }
      },
      "source": [
        "tokenizer.tokenize(text.split())"
      ],
      "execution_count": 32,
      "outputs": [
        {
          "output_type": "execute_result",
          "data": {
            "text/plain": [
              "['Nazım_Hikmet_Ran',\n",
              " ',',\n",
              " 'Türk_şair',\n",
              " 've',\n",
              " 'yazar.',\n",
              " 'Romantik_komünist',\n",
              " 've',\n",
              " 'romantik_devrimci',\n",
              " 'olarak',\n",
              " 'tanımlanır.',\n",
              " 'Şiirleri',\n",
              " 'elliden',\n",
              " 'fazla',\n",
              " 'dile',\n",
              " 'çevrilmiş',\n",
              " 've',\n",
              " 'eserleri',\n",
              " 'birçok',\n",
              " 'ödül',\n",
              " 'almıştır.']"
            ]
          },
          "metadata": {
            "tags": []
          },
          "execution_count": 32
        }
      ]
    },
    {
      "cell_type": "code",
      "metadata": {
        "id": "6gfiWYYMt6xX"
      },
      "source": [
        ""
      ],
      "execution_count": null,
      "outputs": []
    }
  ]
}